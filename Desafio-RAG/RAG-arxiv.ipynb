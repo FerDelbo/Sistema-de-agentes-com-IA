{
 "cells": [
  {
   "cell_type": "code",
   "execution_count": 4,
   "id": "92955c56-b37f-4887-92bc-f2ea62ac3817",
   "metadata": {},
   "outputs": [
    {
     "name": "stdout",
     "output_type": "stream",
     "text": [
      "Collecting kagglehub\n",
      "  Downloading kagglehub-0.3.13-py3-none-any.whl.metadata (38 kB)\n",
      "Requirement already satisfied: packaging in /home/fernando/Documentos/Sistema-de-agentes-com-IA/my_env/lib/python3.12/site-packages (from kagglehub) (25.0)\n",
      "Requirement already satisfied: pyyaml in /home/fernando/Documentos/Sistema-de-agentes-com-IA/my_env/lib/python3.12/site-packages (from kagglehub) (6.0.2)\n",
      "Requirement already satisfied: requests in /home/fernando/Documentos/Sistema-de-agentes-com-IA/my_env/lib/python3.12/site-packages (from kagglehub) (2.32.5)\n",
      "Requirement already satisfied: tqdm in /home/fernando/Documentos/Sistema-de-agentes-com-IA/my_env/lib/python3.12/site-packages (from kagglehub) (4.67.1)\n",
      "Requirement already satisfied: charset_normalizer<4,>=2 in /home/fernando/Documentos/Sistema-de-agentes-com-IA/my_env/lib/python3.12/site-packages (from requests->kagglehub) (3.4.3)\n",
      "Requirement already satisfied: idna<4,>=2.5 in /home/fernando/Documentos/Sistema-de-agentes-com-IA/my_env/lib/python3.12/site-packages (from requests->kagglehub) (3.10)\n",
      "Requirement already satisfied: urllib3<3,>=1.21.1 in /home/fernando/Documentos/Sistema-de-agentes-com-IA/my_env/lib/python3.12/site-packages (from requests->kagglehub) (2.5.0)\n",
      "Requirement already satisfied: certifi>=2017.4.17 in /home/fernando/Documentos/Sistema-de-agentes-com-IA/my_env/lib/python3.12/site-packages (from requests->kagglehub) (2025.8.3)\n",
      "Downloading kagglehub-0.3.13-py3-none-any.whl (68 kB)\n",
      "\u001b[2K   \u001b[38;2;114;156;31m━━━━━━━━━━━━━━━━━━━━━━━━━━━━━━━━━━━━━━━━\u001b[0m \u001b[32m68.3/68.3 kB\u001b[0m \u001b[31m189.6 kB/s\u001b[0m eta \u001b[36m0:00:00\u001b[0mB/s\u001b[0m eta \u001b[36m0:00:01\u001b[0m\n",
      "\u001b[?25hInstalling collected packages: kagglehub\n",
      "Successfully installed kagglehub-0.3.13\n"
     ]
    }
   ],
   "source": [
    "!pip install kagglehub"
   ]
  },
  {
   "cell_type": "code",
   "execution_count": 5,
   "id": "80c7b88e-7936-4017-867c-48717f4f371b",
   "metadata": {},
   "outputs": [
    {
     "name": "stderr",
     "output_type": "stream",
     "text": [
      "/home/fernando/Documentos/Sistema-de-agentes-com-IA/my_env/lib/python3.12/site-packages/tqdm/auto.py:21: TqdmWarning: IProgress not found. Please update jupyter and ipywidgets. See https://ipywidgets.readthedocs.io/en/stable/user_install.html\n",
      "  from .autonotebook import tqdm as notebook_tqdm\n"
     ]
    },
    {
     "name": "stdout",
     "output_type": "stream",
     "text": [
      "Downloading from https://www.kaggle.com/api/v1/datasets/download/Cornell-University/arxiv?dataset_version_number=255...\n"
     ]
    },
    {
     "name": "stderr",
     "output_type": "stream",
     "text": [
      "100%|██████████████████████████████████████| 1.51G/1.51G [15:22<00:00, 1.76MB/s]"
     ]
    },
    {
     "name": "stdout",
     "output_type": "stream",
     "text": [
      "Extracting files...\n"
     ]
    },
    {
     "name": "stderr",
     "output_type": "stream",
     "text": [
      "\n"
     ]
    },
    {
     "name": "stdout",
     "output_type": "stream",
     "text": [
      "Path to dataset files: /home/fernando/.cache/kagglehub/datasets/Cornell-University/arxiv/versions/255\n"
     ]
    }
   ],
   "source": [
    "import kagglehub\n",
    "\n",
    "# Download latest version\n",
    "path = kagglehub.dataset_download(\"Cornell-University/arxiv\")\n",
    "\n",
    "print(\"Path to dataset files:\", path)"
   ]
  },
  {
   "cell_type": "code",
   "execution_count": null,
   "id": "ba6f4f5a-7084-4460-aa3d-314858bc05ab",
   "metadata": {},
   "outputs": [],
   "source": [
    "final_path = \"/home/fernando/.cache/kagglehub/datasets/Cornell-University/arxiv/versions/255/arxiv-metadata-oai-snapshot.json\""
   ]
  },
  {
   "cell_type": "code",
   "execution_count": null,
   "id": "f1ba9f16-6df6-4e46-9ddc-473ecb3d4514",
   "metadata": {},
   "outputs": [],
   "source": [
    "import pandas as pd\n",
    "path = path + \"/arxiv-metadata-oai-snapshot.json\"\n",
    "df = pd.read_json(path)\n",
    "df.head()"
   ]
  },
  {
   "cell_type": "code",
   "execution_count": 1,
   "id": "d7bae750-b8a7-4385-8e57-6b021e72c538",
   "metadata": {},
   "outputs": [],
   "source": [
    "import os\n",
    "from dotenv import load_dotenv\n",
    "from langchain_core.documents import Document\n",
    "from langchain_text_splitters import RecursiveCharacterTextSplitter\n",
    "from langchain_google_genai import GoogleGenerativeAIEmbeddings, ChatGoogleGenerativeAI\n",
    "from langchain_chroma import Chroma\n",
    "from langchain_core.prompts import ChatPromptTemplate\n",
    "from langchain_core.runnables import RunnablePassthrough\n",
    "from langchain_core.output_parsers import StrOutputParser"
   ]
  },
  {
   "cell_type": "code",
   "execution_count": null,
   "id": "9579eea6-327f-4959-8108-fcc043460635",
   "metadata": {},
   "outputs": [],
   "source": [
    "# Load API key for .env\n",
    "load_dotenv()\n",
    "api_key = os.getenv(\"GOOGLE_API_KEY\")"
   ]
  },
  {
   "cell_type": "code",
   "execution_count": 6,
   "id": "2286380e-3c77-453c-a436-eefd58012a51",
   "metadata": {},
   "outputs": [],
   "source": [
    "# Instanciando moldeo de mebddings do Gemini\n",
    "llm = ChatGoogleGenerativeAI(model=\"gemini-2.0-pro\", temperature=0.7, google_api_key=api_key)"
   ]
  },
  {
   "cell_type": "code",
   "execution_count": null,
   "id": "a8f91b33-58c8-47d6-a15d-00d375c4aa21",
   "metadata": {},
   "outputs": [],
   "source": [
    "# Criar documentos a partir do JSON\n",
    "docs = []\n",
    "for index, row in df_ai.iterrows():\n",
    "    metadata = {\n",
    "        \"title\": row['title'],\n",
    "        \"authors\": row['authors'],\n",
    "        \"id\": row['id']\n",
    "    }\n",
    "    # O conteúdo principal é o resumo (abstract)\n",
    "    doc = Document(page_content=row['abstract'], metadata=metadata)\n",
    "    docs.append(doc)"
   ]
  }
 ],
 "metadata": {
  "kernelspec": {
   "display_name": "Python (my_env)",
   "language": "python",
   "name": "my_env"
  },
  "language_info": {
   "codemirror_mode": {
    "name": "ipython",
    "version": 3
   },
   "file_extension": ".py",
   "mimetype": "text/x-python",
   "name": "python",
   "nbconvert_exporter": "python",
   "pygments_lexer": "ipython3",
   "version": "3.12.3"
  }
 },
 "nbformat": 4,
 "nbformat_minor": 5
}
